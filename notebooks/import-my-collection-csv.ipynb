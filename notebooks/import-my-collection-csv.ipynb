{
 "cells": [
  {
   "cell_type": "code",
   "execution_count": 1,
   "id": "b4f0b548",
   "metadata": {},
   "outputs": [],
   "source": [
    "import psycopg2\n",
    "from psycopg2.extras import execute_values\n",
    "import pandas as pd\n",
    "\n",
    "def extract_master(oneURL):\n",
    "    return int(oneURL.split('/')[-1].split('-')[0])\n",
    "\n",
    "def extract_type(oneURL):\n",
    "    return oneURL.split('/')[-2]\n",
    "\n",
    "def insert_master_list(master_list):\n",
    "    \"\"\" insert multiple masters into the masters table  \"\"\"\n",
    "    sql = \"INSERT INTO master_owned (master_id) VALUES %s\"\n",
    "    conn = None\n",
    "    try:\n",
    "        # connect to the PostgreSQL database\n",
    "        conn = psycopg2.connect(\"dbname=discogs user=postgres password=postgres\")\n",
    "        # create a new cursor\n",
    "        cur = conn.cursor()\n",
    "        # make list of tuples\n",
    "        arr = [(i,) for i in master_list]\n",
    "        # execute the INSERT statement\n",
    "        execute_values(cur, sql, arr)\n",
    "        # commit the changes to the database\n",
    "        conn.commit()\n",
    "        # close communication with the database\n",
    "        cur.close()\n",
    "    except (Exception, psycopg2.DatabaseError) as error:\n",
    "        print(error)\n",
    "    finally:\n",
    "        if conn is not None:\n",
    "            conn.close()"
   ]
  },
  {
   "cell_type": "code",
   "execution_count": 2,
   "id": "82cafd1f",
   "metadata": {},
   "outputs": [],
   "source": [
    "myPath = 'C:\\\\Users\\\\mikejseay\\\\Documents\\\\Code\\\\discogs-xml2db\\\\my_collection.csv'"
   ]
  },
  {
   "cell_type": "code",
   "execution_count": 3,
   "id": "1013ef64",
   "metadata": {},
   "outputs": [
    {
     "data": {
      "text/plain": [
       "8"
      ]
     },
     "execution_count": 3,
     "metadata": {},
     "output_type": "execute_result"
    }
   ],
   "source": [
    "myDF = pd.read_csv(myPath)\n",
    "myDF['masterNum'] = myDF['URL'].apply(extract_master)\n",
    "myDF['type'] = myDF['URL'].apply(extract_type)\n",
    "releaseNoMaster = myDF['type'] == 'release'\n",
    "releaseNoMaster.sum()"
   ]
  },
  {
   "cell_type": "code",
   "execution_count": 4,
   "id": "5b825e76",
   "metadata": {},
   "outputs": [],
   "source": [
    "myDF.drop(myDF.index[releaseNoMaster], inplace=True)"
   ]
  },
  {
   "cell_type": "code",
   "execution_count": 5,
   "id": "d1acda2d",
   "metadata": {},
   "outputs": [],
   "source": [
    "myDF.to_csv('my_collection_export.csv')"
   ]
  },
  {
   "cell_type": "code",
   "execution_count": 7,
   "id": "38487865",
   "metadata": {
    "scrolled": true
   },
   "outputs": [],
   "source": [
    "insert_master_list(myDF['masterNum'].values.tolist())"
   ]
  }
 ],
 "metadata": {
  "kernelspec": {
   "display_name": "Python 3",
   "language": "python",
   "name": "python3"
  },
  "language_info": {
   "codemirror_mode": {
    "name": "ipython",
    "version": 3
   },
   "file_extension": ".py",
   "mimetype": "text/x-python",
   "name": "python",
   "nbconvert_exporter": "python",
   "pygments_lexer": "ipython3",
   "version": "3.7.6"
  }
 },
 "nbformat": 4,
 "nbformat_minor": 5
}
