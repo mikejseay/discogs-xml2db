{
 "cells": [
  {
   "cell_type": "code",
   "execution_count": 1,
   "id": "d72e6cc4",
   "metadata": {
    "scrolled": true
   },
   "outputs": [
    {
     "name": "stdout",
     "output_type": "stream",
     "text": [
      "Using matplotlib backend: Qt5Agg\n"
     ]
    },
    {
     "name": "stderr",
     "output_type": "stream",
     "text": [
      "C:\\Users\\mikejseay\\anaconda3\\lib\\site-packages\\dash_bootstrap_components\\_table.py:5: UserWarning: \n",
      "The dash_html_components package is deprecated. Please replace\n",
      "`import dash_html_components as html` with `from dash import html`\n",
      "  import dash_html_components as html\n"
     ]
    }
   ],
   "source": [
    "%matplotlib\n",
    "\n",
    "import pandas as pd\n",
    "import networkx as nx\n",
    "from pyvis.network import Network\n",
    "from jaal import Jaal\n",
    "import matplotlib.pyplot as plt\n",
    "import numpy as np\n",
    "import itertools\n",
    "from matplotlib import cm"
   ]
  },
  {
   "cell_type": "code",
   "execution_count": 2,
   "id": "0caf29d0",
   "metadata": {},
   "outputs": [],
   "source": [
    "# the idea here is to map genres to color and then color the style based on the genre it's most closely associate with\n",
    "# since there are 15 genres, we will need 15 distinct colors\n",
    "# the 'tab20' color map should be good for that\n",
    "# but actually it doesn't matter because the jaal library has 15+ distinct colors\n",
    "\n",
    "# that's it!"
   ]
  },
  {
   "cell_type": "code",
   "execution_count": 181,
   "id": "68812539",
   "metadata": {},
   "outputs": [],
   "source": [
    "genreSizes = pd.read_csv('C:/Users/mikejseay/Documents/Code/discogs-xml2db/output_csv/genreFrequencies.csv')\n",
    "genreSizes.set_index('genre', inplace=True)\n",
    "genreSizes['id'] = range(genreSizes.shape[0])\n",
    "\n",
    "genreWeights = pd.read_csv('C:/Users/mikejseay/Documents/Code/discogs-xml2db/output_csv/genreCoOccurences.csv')\n",
    "genreWeights.rename(columns={'cnt': 'cooccurrence'}, inplace=True)\n",
    "\n",
    "normFactor1 = []`\n",
    "normFactor2 = []\n",
    "for g1, g2, cooccurences in genreWeights[['g1', 'g2', 'cooccurrence']].values:\n",
    "    normFactor1.append(np.sqrt(genreSizes.loc[g1, 'cnt'] * genreSizes.loc[g2, 'cnt']))  # Oichai similarity\n",
    "    normFactor2.append(genreSizes.loc[g1, 'cnt'] + genreSizes.loc[g2, 'cnt'] - cooccurences)  # Jaccard similarity\n",
    "\n",
    "genreWeights['normFactor1'] = normFactor1\n",
    "genreWeights['normFactor2'] = normFactor2\n",
    "genreWeights['weight1'] = genreWeights['cooccurrence'] / genreWeights['normFactor1']\n",
    "genreWeights['weight2'] = genreWeights['cooccurrence'] / genreWeights['normFactor2']\n",
    "genreWeights['weight'] = genreWeights['weight2']\n",
    "\n",
    "label2id_genre = genreSizes['id'].to_dict()\n",
    "genreWeights['from'] = genreWeights['g1'].replace(label2id_genre)\n",
    "genreWeights['to'] = genreWeights['g2'].replace(label2id_genre)"
   ]
  },
  {
   "cell_type": "code",
   "execution_count": 182,
   "id": "6fddf91e",
   "metadata": {},
   "outputs": [],
   "source": [
    "genreStyleMapping = pd.read_csv('C:/Users/mikejseay/Documents/Code/discogs-xml2db/output_csv/genreStyleMapping.csv')\n",
    "genreStyleMapping.set_index('style', inplace=True)\n",
    "\n",
    "styleSizes = pd.read_csv('C:/Users/mikejseay/Documents/Code/discogs-xml2db/output_csv/styleFrequencies.csv').set_index('style').join(genreStyleMapping)\n",
    "styleSizes.rename(columns={'cnt': 'cnt'}, inplace=True)\n",
    "styleSizes['id'] = range(styleSizes.shape[0])\n",
    "\n",
    "styleWeights = pd.read_csv('C:/Users/mikejseay/Documents/Code/discogs-xml2db/output_csv/styleCoOccurences.csv')\n",
    "styleWeights.rename(columns={'cnt': 'cooccurrence'}, inplace=True)\n",
    "\n",
    "normFactor1 = []\n",
    "normFactor2 = []\n",
    "for g1, g2, cooccurences in styleWeights[['g1', 'g2', 'cooccurrence']].values:\n",
    "    normFactor1.append(np.sqrt(styleSizes.loc[g1, 'cnt'] * styleSizes.loc[g2, 'cnt']))  # Oichai similarity\n",
    "    normFactor2.append(styleSizes.loc[g1, 'cnt'] + styleSizes.loc[g2, 'cnt'] - cooccurences)  # Jaccard similarity\n",
    "\n",
    "styleWeights['normFactor1'] = normFactor1\n",
    "styleWeights['normFactor2'] = normFactor2\n",
    "styleWeights['weight1'] = styleWeights['cooccurrence'] / styleWeights['normFactor1']\n",
    "styleWeights['weight2'] = styleWeights['cooccurrence'] / styleWeights['normFactor2']\n",
    "styleWeights['weight'] = styleWeights['weight2']\n",
    "\n",
    "label2id_style = styleSizes['id'].to_dict()\n",
    "styleWeights['from'] = styleWeights['g1'].replace(label2id_style)\n",
    "styleWeights['to'] = styleWeights['g2'].replace(label2id_style)"
   ]
  },
  {
   "cell_type": "code",
   "execution_count": 56,
   "id": "13904444",
   "metadata": {},
   "outputs": [
    {
     "data": {
      "text/plain": [
       "1.0"
      ]
     },
     "execution_count": 56,
     "metadata": {},
     "output_type": "execute_result"
    }
   ],
   "source": [
    "genreWeights.shape[0] / (genreSizes.shape[0] * (genreSizes.shape[0] - 1) / 2)"
   ]
  },
  {
   "cell_type": "code",
   "execution_count": 64,
   "id": "406a6cec",
   "metadata": {},
   "outputs": [
    {
     "data": {
      "text/plain": [
       "45794"
      ]
     },
     "execution_count": 64,
     "metadata": {},
     "output_type": "execute_result"
    }
   ],
   "source": [
    "styleWeights.shape[0]"
   ]
  },
  {
   "cell_type": "code",
   "execution_count": 57,
   "id": "9775874c",
   "metadata": {
    "scrolled": true
   },
   "outputs": [
    {
     "data": {
      "text/plain": [
       "0.2531439848314824"
      ]
     },
     "execution_count": 57,
     "metadata": {},
     "output_type": "execute_result"
    }
   ],
   "source": [
    "styleWeights.shape[0] / (styleSizes.shape[0] * (styleSizes.shape[0] - 1) / 2)"
   ]
  },
  {
   "cell_type": "code",
   "execution_count": 33,
   "id": "2e89723c",
   "metadata": {},
   "outputs": [
    {
     "data": {
      "text/plain": [
       "<matplotlib.collections.PathCollection at 0x2edd2fa1588>"
      ]
     },
     "execution_count": 33,
     "metadata": {},
     "output_type": "execute_result"
    }
   ],
   "source": [
    "f, ax = plt.subplots()\n",
    "ax.scatter(styleWeights['weight1'], styleWeights['weight2'])"
   ]
  },
  {
   "cell_type": "code",
   "execution_count": 29,
   "id": "103bf6cc",
   "metadata": {
    "collapsed": true
   },
   "outputs": [
    {
     "data": {
      "text/plain": [
       "(array([4.320e+04, 1.277e+03, 4.910e+02, 2.690e+02, 1.400e+02, 1.010e+02,\n",
       "        7.900e+01, 5.300e+01, 5.200e+01, 2.800e+01, 2.000e+01, 1.500e+01,\n",
       "        2.200e+01, 1.100e+01, 8.000e+00, 1.000e+01, 4.000e+00, 2.000e+00,\n",
       "        3.000e+00, 0.000e+00, 4.000e+00, 2.000e+00, 0.000e+00, 0.000e+00,\n",
       "        0.000e+00, 0.000e+00, 0.000e+00, 0.000e+00, 0.000e+00, 0.000e+00,\n",
       "        0.000e+00, 0.000e+00, 0.000e+00, 0.000e+00, 1.000e+00, 0.000e+00,\n",
       "        0.000e+00, 0.000e+00, 0.000e+00, 2.000e+00]),\n",
       " array([8.54649722e-06, 7.99730342e-03, 1.59860603e-02, 2.39748173e-02,\n",
       "        3.19635742e-02, 3.99523311e-02, 4.79410881e-02, 5.59298450e-02,\n",
       "        6.39186019e-02, 7.19073588e-02, 7.98961158e-02, 8.78848727e-02,\n",
       "        9.58736296e-02, 1.03862387e-01, 1.11851143e-01, 1.19839900e-01,\n",
       "        1.27828657e-01, 1.35817414e-01, 1.43806171e-01, 1.51794928e-01,\n",
       "        1.59783685e-01, 1.67772442e-01, 1.75761199e-01, 1.83749956e-01,\n",
       "        1.91738713e-01, 1.99727470e-01, 2.07716227e-01, 2.15704983e-01,\n",
       "        2.23693740e-01, 2.31682497e-01, 2.39671254e-01, 2.47660011e-01,\n",
       "        2.55648768e-01, 2.63637525e-01, 2.71626282e-01, 2.79615039e-01,\n",
       "        2.87603796e-01, 2.95592553e-01, 3.03581310e-01, 3.11570067e-01,\n",
       "        3.19558824e-01]),\n",
       " <BarContainer object of 40 artists>)"
      ]
     },
     "execution_count": 29,
     "metadata": {},
     "output_type": "execute_result"
    }
   ],
   "source": [
    "f, ax = plt.subplots(2, 1)\n",
    "ax[0].hist(styleWeights['weight1'], 40)\n",
    "ax[1].hist(styleWeights['weight2'], 40)"
   ]
  },
  {
   "cell_type": "code",
   "execution_count": 234,
   "id": "9b5fa845",
   "metadata": {},
   "outputs": [],
   "source": [
    "# prune graph by only allowing each node to connect to at most N other nodes, which will be the ones with the largest weights\n",
    "\n",
    "# build graph manually using networkx\n",
    "# allows us to apply algorithms like minimum spanning tree\n",
    "\n",
    "Ggenre = nx.from_pandas_edgelist(genreWeights, source='g1', target='g2', edge_attr='weight')\n",
    "# Ggenre = nx.from_pandas_edgelist(genreWeights, source='from', target='to', edge_attr='weight')\n",
    "\n",
    "Ggenre_MinST = nx.minimum_spanning_tree(Ggenre)\n",
    "Ggenre_MaxST = nx.maximum_spanning_tree(Ggenre)\n",
    "\n",
    "genreWeightsMinST = nx.to_pandas_edgelist(Ggenre_MinST)\n",
    "genreWeightsMaxST = nx.to_pandas_edgelist(Ggenre_MaxST)\n",
    "\n",
    "# --\n",
    "\n",
    "Gstyle = nx.from_pandas_edgelist(styleWeights, source='g1', target='g2', edge_attr='weight')\n",
    "# Gstyle = nx.from_pandas_edgelist(styleWeights, source='from', target='to', edge_attr='weight')\n",
    "\n",
    "Gstyle_MinST = nx.minimum_spanning_tree(Gstyle)\n",
    "Gstyle_MaxST = nx.maximum_spanning_tree(Gstyle)\n",
    "\n",
    "styleWeightsMinST = nx.to_pandas_edgelist(Gstyle_MinST)\n",
    "styleWeightsMaxST = nx.to_pandas_edgelist(Gstyle_MaxST)"
   ]
  },
  {
   "cell_type": "code",
   "execution_count": 380,
   "id": "066140f4",
   "metadata": {},
   "outputs": [],
   "source": [
    "# degree centrality\n",
    "\n",
    "degreeCentral = pd.Series(nx.degree_centrality(Gstyle_MaxST))\n",
    "degreeCentral = degreeCentral / degreeCentral.max()\n",
    "# degreeCentral.sort_values(ascending=False).head(10)\n",
    "\n",
    "# closeness centrality\n",
    "\n",
    "closeCentral = pd.Series(nx.closeness_centrality(Gstyle_MaxST))\n",
    "closeCentral = closeCentral / closeCentral.max()\n",
    "# closeCentral.sort_values(ascending=False).head(10)\n",
    "\n",
    "# harmonic centrality\n",
    "\n",
    "harmonicCentral = pd.Series(nx.harmonic_centrality(Gstyle_MaxST))\n",
    "harmonicCentral = harmonicCentral[degreeCentral.index]\n",
    "harmonicCentral = harmonicCentral / harmonicCentral.max()\n",
    "# harmonicCentral.sort_values(ascending=False).head(10)\n",
    "\n",
    "# betweenness centrality\n",
    "\n",
    "btwnCentral = pd.Series(nx.betweenness_centrality(Gstyle_MaxST))\n",
    "btwnCentral = btwnCentral / btwnCentral.max()\n",
    "# btwnCentral.sort_values(ascending=False).head(10)\n",
    "\n",
    "# eigenvector centrality\n",
    "\n",
    "eigenCen = pd.Series(nx.eigenvector_centrality(Gstyle_MaxST,\n",
    "                          max_iter=1000,\n",
    "                          tol=1e-05,))\n",
    "eigenCen = eigenCen / eigenCen.max()\n",
    "# eigenCen.sort_values(ascending=False).head(10)\n",
    "\n",
    "# eigenvector centrality - weighted\n",
    "\n",
    "eigenCenWt = pd.Series(nx.eigenvector_centrality(Gstyle_MaxST,\n",
    "                          max_iter=1000,\n",
    "                          tol=1e-05,\n",
    "                          weight='weight'))\n",
    "eigenCenWt = eigenCenWt / eigenCenWt.max()\n",
    "# eigenCenWt.sort_values(ascending=False).head(10)\n",
    "\n",
    "# katz centrality\n",
    "\n",
    "katzCentral = pd.Series(nx.katz_centrality(Gstyle_MaxST,\n",
    "                                          normalized=True))\n",
    "katzCentral = katzCentral / katzCentral.max()\n",
    "# katzCentral.sort_values(ascending=False).head(10)\n",
    "\n",
    "# katz centrality - weighted\n",
    "\n",
    "katzCentralWt = pd.Series(nx.katz_centrality(Gstyle_MaxST,\n",
    "                                            normalized=True))\n",
    "katzCentralWt = katzCentralWt / katzCentralWt.max()\n",
    "# katzCentralWt.sort_values(ascending=False).head(10)\n",
    "\n",
    "# page rank\n",
    "\n",
    "pageRank = pd.Series(nx.pagerank(Gstyle_MaxST))\n",
    "pageRank = pageRank / pageRank.max()\n",
    "# pageRank.sort_values(ascending=False).head(10)"
   ]
  },
  {
   "cell_type": "code",
   "execution_count": 382,
   "id": "90f89d68",
   "metadata": {},
   "outputs": [],
   "source": [
    "centralityDF = pd.concat((degreeCentral, closeCentral, harmonicCentral, btwnCentral,\n",
    "                          eigenCen, eigenCenWt, katzCentral, pageRank),\n",
    "                        axis=1)\n",
    "centralityDF.columns = ('degreeCentral', 'closeCentral', 'harmonicCentral',\n",
    "                        'btwnCentral', 'eigenCen', 'eigenCenWt',\n",
    "                        'katzCentral', 'pageRank', )"
   ]
  },
  {
   "cell_type": "code",
   "execution_count": 383,
   "id": "2bd37ced",
   "metadata": {},
   "outputs": [],
   "source": [
    "centralityDF['grandCentrality'] = centralityDF.mean(axis=1)"
   ]
  },
  {
   "cell_type": "code",
   "execution_count": 397,
   "id": "b33679c3",
   "metadata": {},
   "outputs": [],
   "source": [
    "centralityDF['grandCentrality2'] = centralityDF[['harmonicCentral', 'btwnCentral', 'pageRank']].mean(axis=1)"
   ]
  },
  {
   "cell_type": "code",
   "execution_count": 388,
   "id": "5d95e280",
   "metadata": {
    "collapsed": true
   },
   "outputs": [
    {
     "data": {
      "text/plain": [
       "Ambient             0.774380\n",
       "Psychedelic Rock    0.723136\n",
       "Experimental        0.687129\n",
       "Folk Rock           0.687106\n",
       "Prog Rock           0.638532\n",
       "Indie Rock          0.613741\n",
       "Downtempo           0.607540\n",
       "Cha-Cha             0.592291\n",
       "Hindustani          0.585768\n",
       "Industrial          0.553193\n",
       "Name: grandCentrality, dtype: float64"
      ]
     },
     "execution_count": 388,
     "metadata": {},
     "output_type": "execute_result"
    }
   ],
   "source": [
    "centralityDF['grandCentrality'].sort_values(ascending=False).head(10)"
   ]
  },
  {
   "cell_type": "code",
   "execution_count": 398,
   "id": "797b5833",
   "metadata": {},
   "outputs": [
    {
     "data": {
      "text/plain": [
       "Experimental        0.901491\n",
       "Ambient             0.830740\n",
       "Prog Rock           0.766390\n",
       "Cha-Cha             0.734066\n",
       "Psychedelic Rock    0.707612\n",
       "Industrial          0.692701\n",
       "Noise               0.676935\n",
       "Fusion              0.654353\n",
       "Avantgarde          0.634425\n",
       "Art Rock            0.633896\n",
       "Name: grandCentrality2, dtype: float64"
      ]
     },
     "execution_count": 398,
     "metadata": {},
     "output_type": "execute_result"
    }
   ],
   "source": [
    "centralityDF['grandCentrality2'].sort_values(ascending=False).head(10)"
   ]
  },
  {
   "cell_type": "code",
   "execution_count": 392,
   "id": "510b096d",
   "metadata": {
    "collapsed": true
   },
   "outputs": [
    {
     "data": {
      "text/plain": [
       "['degreeCentral',\n",
       " 'closeCentral',\n",
       " 'harmonicCentral',\n",
       " 'btwnCentral',\n",
       " 'eigenCen',\n",
       " 'eigenCenWt',\n",
       " 'katzCentral',\n",
       " 'pageRank',\n",
       " 'grandCentrality']"
      ]
     },
     "execution_count": 392,
     "metadata": {},
     "output_type": "execute_result"
    }
   ],
   "source": [
    "centralityDF.columns.to_list()"
   ]
  },
  {
   "cell_type": "code",
   "execution_count": 393,
   "id": "aa14b96d",
   "metadata": {},
   "outputs": [
    {
     "name": "stdout",
     "output_type": "stream",
     "text": [
      "degreeCentral\n",
      "Ambient             1.000000\n",
      "Folk Rock           0.857143\n",
      "Juke                0.857143\n",
      "African             0.857143\n",
      "Cha-Cha             0.857143\n",
      "Psychedelic Rock    0.857143\n",
      "Indie Rock          0.857143\n",
      "Sephardic           0.857143\n",
      "Breakbeat           0.714286\n",
      "Ballad              0.714286\n",
      "Name: degreeCentral, dtype: float64\n",
      "closeCentral\n",
      "Experimental        1.000000\n",
      "Avantgarde          0.992607\n",
      "Art Rock            0.985008\n",
      "Prog Rock           0.977215\n",
      "Noise               0.956333\n",
      "Ambient             0.943477\n",
      "Jazz-Rock           0.937462\n",
      "Abstract            0.923998\n",
      "Psychedelic Rock    0.920692\n",
      "Industrial          0.915505\n",
      "Name: closeCentral, dtype: float64\n",
      "harmonicCentral\n",
      "Ambient             1.000000\n",
      "Experimental        0.998933\n",
      "Psychedelic Rock    0.959933\n",
      "Prog Rock           0.957563\n",
      "Avantgarde          0.935197\n",
      "Noise               0.932178\n",
      "Downtempo           0.929322\n",
      "Art Rock            0.922472\n",
      "Industrial          0.903630\n",
      "Modern Classical    0.891745\n",
      "Name: harmonicCentral, dtype: float64\n",
      "btwnCentral\n",
      "Experimental    1.000000\n",
      "Prog Rock       0.888458\n",
      "Avantgarde      0.739726\n",
      "Art Rock        0.739330\n",
      "Fusion          0.622735\n",
      "Electro         0.609127\n",
      "Jazz-Rock       0.595173\n",
      "Noise           0.581837\n",
      "Industrial      0.575977\n",
      "Latin Jazz      0.536142\n",
      "Name: btwnCentral, dtype: float64\n",
      "eigenCen\n",
      "Folk Rock           1.000000\n",
      "Psychedelic Rock    0.941918\n",
      "Ambient             0.758716\n",
      "Indie Rock          0.675073\n",
      "Downtempo           0.540851\n",
      "Folk                0.505227\n",
      "Prog Rock           0.479220\n",
      "Garage Rock         0.468910\n",
      "Experimental        0.419645\n",
      "Country Rock        0.357159\n",
      "Name: eigenCen, dtype: float64\n",
      "eigenCenWt\n",
      "Hindustani          1.000000\n",
      "Bollywood           0.938371\n",
      "Indian Classical    0.405970\n",
      "Soundtrack          0.222444\n",
      "Sertanejo           0.088119\n",
      "Caipira             0.086797\n",
      "Score               0.062669\n",
      "Carnatic            0.051852\n",
      "Chutney             0.032566\n",
      "Theme               0.028286\n",
      "Name: eigenCenWt, dtype: float64\n",
      "katzCentral\n",
      "Ambient             1.000000\n",
      "Folk Rock           0.947039\n",
      "Psychedelic Rock    0.942499\n",
      "Cha-Cha             0.919515\n",
      "Indie Rock          0.895070\n",
      "Juke                0.889560\n",
      "African             0.886879\n",
      "Sephardic           0.885329\n",
      "Downtempo           0.881683\n",
      "Spoken Word         0.837547\n",
      "Name: katzCentral, dtype: float64\n",
      "pageRank\n",
      "Ambient       1.000000\n",
      "Juke          0.986268\n",
      "Hindustani    0.901357\n",
      "Ballad        0.879291\n",
      "Indie Rock    0.868269\n",
      "Cha-Cha       0.857837\n",
      "Folk Rock     0.839874\n",
      "Sephardic     0.838997\n",
      "African       0.829809\n",
      "Mizrahi       0.751009\n",
      "Name: pageRank, dtype: float64\n",
      "grandCentrality\n",
      "Ambient             0.774380\n",
      "Psychedelic Rock    0.723136\n",
      "Experimental        0.687129\n",
      "Folk Rock           0.687106\n",
      "Prog Rock           0.638532\n",
      "Indie Rock          0.613741\n",
      "Downtempo           0.607540\n",
      "Cha-Cha             0.592291\n",
      "Hindustani          0.585768\n",
      "Industrial          0.553193\n",
      "Name: grandCentrality, dtype: float64\n"
     ]
    }
   ],
   "source": [
    "# bad: degreeCentral, closeCentral, eigenCen, eigenCenWt\n",
    "# good: harmonicCentral, btwnCentral, pageRank\n",
    "\n",
    "for colName in centralityDF.columns.to_list():\n",
    "    print(colName)\n",
    "    print(centralityDF[colName].sort_values(ascending=False).head(10))"
   ]
  },
  {
   "cell_type": "code",
   "execution_count": null,
   "id": "354063c2",
   "metadata": {},
   "outputs": [],
   "source": []
  },
  {
   "cell_type": "code",
   "execution_count": null,
   "id": "a887be5c",
   "metadata": {},
   "outputs": [],
   "source": []
  },
  {
   "cell_type": "code",
   "execution_count": 187,
   "id": "4b3441af",
   "metadata": {},
   "outputs": [],
   "source": [
    "# build graph manually using pyvis (a bit more control)\n",
    "\n",
    "netGenre = Network(notebook=True)\n",
    "\n",
    "netGenre.add_nodes(list(range(genreSizes.shape[0])),\n",
    "             value=genreSizes['size'].to_list(),\n",
    "             label=genreSizes.index.to_list(),)\n",
    "\n",
    "# build a dict that maps the node labels to their id number\n",
    "\n",
    "label2id = {}\n",
    "for node in netGenre.nodes:\n",
    "    label2id[node['label']] = node['id']\n",
    "\n",
    "edgeTups = list(genreWeightsSparse[['g1', 'g2']].to_records(index=False))\n",
    "# weights = genreWeightsSparse['weight'].to_list()\n",
    "weights = genreWeightsSparse['normWeight'].to_list()\n",
    "for edgeTup, weight in zip(edgeTups, weights):\n",
    "    netGenre.add_edge(label2id[edgeTup[0]],\n",
    "                 label2id[edgeTup[1]],\n",
    "                 value=weight)\n",
    "\n",
    "# netGenre.toggle_physics(False)\n",
    "\n",
    "netGenre.show('example.html')"
   ]
  },
  {
   "cell_type": "code",
   "execution_count": 34,
   "id": "670bd805",
   "metadata": {
    "collapsed": true
   },
   "outputs": [
    {
     "data": {
      "text/plain": [
       "(array([15686.,  8568.,  4527.,  2923.,  1916.,  1409.,  1153.,   928.,\n",
       "          706.,   625.,   529.,   471.,   393.,   313.,   297.,   265.,\n",
       "          277.,   232.,   235.,   184.]),\n",
       " array([3.00002891e-05, 1.02831428e-03, 2.02662827e-03, 3.02494226e-03,\n",
       "        4.02325625e-03, 5.02157024e-03, 6.01988423e-03, 7.01819823e-03,\n",
       "        8.01651222e-03, 9.01482621e-03, 1.00131402e-02, 1.10114542e-02,\n",
       "        1.20097682e-02, 1.30080822e-02, 1.40063962e-02, 1.50047102e-02,\n",
       "        1.60030241e-02, 1.70013381e-02, 1.79996521e-02, 1.89979661e-02,\n",
       "        1.99962801e-02]),\n",
       " <BarContainer object of 20 artists>)"
      ]
     },
     "execution_count": 34,
     "metadata": {},
     "output_type": "execute_result"
    }
   ],
   "source": [
    "f, ax = plt.subplots()\n",
    "ax.hist(styleWeights['normWeight'][styleWeights['normWeight'] < .02], 20)"
   ]
  },
  {
   "cell_type": "code",
   "execution_count": 34,
   "id": "e7365273",
   "metadata": {
    "collapsed": true
   },
   "outputs": [
    {
     "data": {
      "text/html": [
       "\n",
       "        <iframe\n",
       "            width=\"500px\"\n",
       "            height=\"500px\"\n",
       "            src=\"example.html\"\n",
       "            frameborder=\"0\"\n",
       "            allowfullscreen\n",
       "        ></iframe>\n",
       "        "
      ],
      "text/plain": [
       "<IPython.lib.display.IFrame at 0x27deb1b95c8>"
      ]
     },
     "execution_count": 34,
     "metadata": {},
     "output_type": "execute_result"
    }
   ],
   "source": [
    "# build graph manually (a bit more control)\n",
    "\n",
    "netStyle = Network(notebook=True)\n",
    "\n",
    "netStyle.add_nodes(list(range(styleSizes.shape[0])),\n",
    "             value=styleSizes['cnt'].to_list(),\n",
    "             label=styleSizes.index.to_list(),)\n",
    "\n",
    "# build a dict that maps the node labels to their id number\n",
    "\n",
    "label2id = {}\n",
    "for node in netStyle.nodes:\n",
    "    label2id[node['label']] = node['id']\n",
    "\n",
    "edgeTups = list(styleWeightsMaxST[['source', 'target']].to_records(index=False))\n",
    "weights = styleWeightsMaxST['weight'].to_list()\n",
    "for edgeTup, weight in zip(edgeTups, weights):\n",
    "    netStyle.add_edge(label2id[edgeTup[0]],\n",
    "                 label2id[edgeTup[1]],\n",
    "                 value=weight)\n",
    "\n",
    "# netStyle.toggle_physics(False)\n",
    "\n",
    "netStyle.show('example.html')"
   ]
  },
  {
   "cell_type": "code",
   "execution_count": 10,
   "id": "91d6e099",
   "metadata": {},
   "outputs": [],
   "source": [
    "\n",
    "\n",
    "# the node_df needs id, size, and color\n",
    "# the edge_df needs from, to, and weight\n",
    "\n",
    "# from jaal.datasets import load_got\n",
    "# edge_df, node_df = load_got()  # for an example"
   ]
  },
  {
   "cell_type": "code",
   "execution_count": 157,
   "id": "9582722b",
   "metadata": {},
   "outputs": [],
   "source": [
    "# genres - all\n",
    "\n",
    "node_df = genreSizes.reset_index()\n",
    "node_df['id'] = node_df['genre']\n",
    "edge_df = genreWeights.rename(columns={'g1': 'from', 'g2': 'to', })"
   ]
  },
  {
   "cell_type": "code",
   "execution_count": 156,
   "id": "3a35bfa6",
   "metadata": {
    "collapsed": true
   },
   "outputs": [
    {
     "ename": "KeyError",
     "evalue": "'normWeight'",
     "output_type": "error",
     "traceback": [
      "\u001b[1;31m---------------------------------------------------------------------------\u001b[0m",
      "\u001b[1;31mKeyError\u001b[0m                                  Traceback (most recent call last)",
      "\u001b[1;32m~\\anaconda3\\lib\\site-packages\\pandas\\core\\indexes\\base.py\u001b[0m in \u001b[0;36mget_loc\u001b[1;34m(self, key, method, tolerance)\u001b[0m\n\u001b[0;32m   3360\u001b[0m             \u001b[1;32mtry\u001b[0m\u001b[1;33m:\u001b[0m\u001b[1;33m\u001b[0m\u001b[1;33m\u001b[0m\u001b[0m\n\u001b[1;32m-> 3361\u001b[1;33m                 \u001b[1;32mreturn\u001b[0m \u001b[0mself\u001b[0m\u001b[1;33m.\u001b[0m\u001b[0m_engine\u001b[0m\u001b[1;33m.\u001b[0m\u001b[0mget_loc\u001b[0m\u001b[1;33m(\u001b[0m\u001b[0mcasted_key\u001b[0m\u001b[1;33m)\u001b[0m\u001b[1;33m\u001b[0m\u001b[1;33m\u001b[0m\u001b[0m\n\u001b[0m\u001b[0;32m   3362\u001b[0m             \u001b[1;32mexcept\u001b[0m \u001b[0mKeyError\u001b[0m \u001b[1;32mas\u001b[0m \u001b[0merr\u001b[0m\u001b[1;33m:\u001b[0m\u001b[1;33m\u001b[0m\u001b[1;33m\u001b[0m\u001b[0m\n",
      "\u001b[1;32m~\\anaconda3\\lib\\site-packages\\pandas\\_libs\\index.pyx\u001b[0m in \u001b[0;36mpandas._libs.index.IndexEngine.get_loc\u001b[1;34m()\u001b[0m\n",
      "\u001b[1;32m~\\anaconda3\\lib\\site-packages\\pandas\\_libs\\index.pyx\u001b[0m in \u001b[0;36mpandas._libs.index.IndexEngine.get_loc\u001b[1;34m()\u001b[0m\n",
      "\u001b[1;32m~\\anaconda3\\lib\\site-packages\\pandas\\_libs\\index.pyx\u001b[0m in \u001b[0;36mpandas._libs.index.IndexEngine._get_loc_duplicates\u001b[1;34m()\u001b[0m\n",
      "\u001b[1;32m~\\anaconda3\\lib\\site-packages\\pandas\\_libs\\index.pyx\u001b[0m in \u001b[0;36mpandas._libs.index.IndexEngine._maybe_get_bool_indexer\u001b[1;34m()\u001b[0m\n",
      "\u001b[1;32m~\\anaconda3\\lib\\site-packages\\pandas\\_libs\\index.pyx\u001b[0m in \u001b[0;36mpandas._libs.index.IndexEngine._unpack_bool_indexer\u001b[1;34m()\u001b[0m\n",
      "\u001b[1;31mKeyError\u001b[0m: 'normWeight'",
      "\nThe above exception was the direct cause of the following exception:\n",
      "\u001b[1;31mKeyError\u001b[0m                                  Traceback (most recent call last)",
      "\u001b[1;32m<ipython-input-156-4d291bf8c3e6>\u001b[0m in \u001b[0;36m<module>\u001b[1;34m\u001b[0m\n\u001b[0;32m      4\u001b[0m \u001b[0mnode_df\u001b[0m\u001b[1;33m[\u001b[0m\u001b[1;34m'id'\u001b[0m\u001b[1;33m]\u001b[0m \u001b[1;33m=\u001b[0m \u001b[0mnode_df\u001b[0m\u001b[1;33m[\u001b[0m\u001b[1;34m'style'\u001b[0m\u001b[1;33m]\u001b[0m\u001b[1;33m\u001b[0m\u001b[1;33m\u001b[0m\u001b[0m\n\u001b[0;32m      5\u001b[0m \u001b[0medge_df\u001b[0m \u001b[1;33m=\u001b[0m \u001b[0mstyleWeights\u001b[0m\u001b[1;33m.\u001b[0m\u001b[0mrename\u001b[0m\u001b[1;33m(\u001b[0m\u001b[0mcolumns\u001b[0m\u001b[1;33m=\u001b[0m\u001b[1;33m{\u001b[0m\u001b[1;34m'g1'\u001b[0m\u001b[1;33m:\u001b[0m \u001b[1;34m'from'\u001b[0m\u001b[1;33m,\u001b[0m \u001b[1;34m'g2'\u001b[0m\u001b[1;33m:\u001b[0m \u001b[1;34m'to'\u001b[0m\u001b[1;33m,\u001b[0m \u001b[1;33m}\u001b[0m\u001b[1;33m)\u001b[0m\u001b[1;33m\u001b[0m\u001b[1;33m\u001b[0m\u001b[0m\n\u001b[1;32m----> 6\u001b[1;33m \u001b[0medge_df\u001b[0m \u001b[1;33m=\u001b[0m \u001b[0medge_df\u001b[0m\u001b[1;33m.\u001b[0m\u001b[0mloc\u001b[0m\u001b[1;33m[\u001b[0m\u001b[0medge_df\u001b[0m\u001b[1;33m[\u001b[0m\u001b[1;34m'normWeight'\u001b[0m\u001b[1;33m]\u001b[0m \u001b[1;33m>\u001b[0m \u001b[1;36m.05\u001b[0m\u001b[1;33m]\u001b[0m\u001b[1;33m\u001b[0m\u001b[1;33m\u001b[0m\u001b[0m\n\u001b[0m",
      "\u001b[1;32m~\\anaconda3\\lib\\site-packages\\pandas\\core\\frame.py\u001b[0m in \u001b[0;36m__getitem__\u001b[1;34m(self, key)\u001b[0m\n\u001b[0;32m   3456\u001b[0m             \u001b[1;32mif\u001b[0m \u001b[0mself\u001b[0m\u001b[1;33m.\u001b[0m\u001b[0mcolumns\u001b[0m\u001b[1;33m.\u001b[0m\u001b[0mnlevels\u001b[0m \u001b[1;33m>\u001b[0m \u001b[1;36m1\u001b[0m\u001b[1;33m:\u001b[0m\u001b[1;33m\u001b[0m\u001b[1;33m\u001b[0m\u001b[0m\n\u001b[0;32m   3457\u001b[0m                 \u001b[1;32mreturn\u001b[0m \u001b[0mself\u001b[0m\u001b[1;33m.\u001b[0m\u001b[0m_getitem_multilevel\u001b[0m\u001b[1;33m(\u001b[0m\u001b[0mkey\u001b[0m\u001b[1;33m)\u001b[0m\u001b[1;33m\u001b[0m\u001b[1;33m\u001b[0m\u001b[0m\n\u001b[1;32m-> 3458\u001b[1;33m             \u001b[0mindexer\u001b[0m \u001b[1;33m=\u001b[0m \u001b[0mself\u001b[0m\u001b[1;33m.\u001b[0m\u001b[0mcolumns\u001b[0m\u001b[1;33m.\u001b[0m\u001b[0mget_loc\u001b[0m\u001b[1;33m(\u001b[0m\u001b[0mkey\u001b[0m\u001b[1;33m)\u001b[0m\u001b[1;33m\u001b[0m\u001b[1;33m\u001b[0m\u001b[0m\n\u001b[0m\u001b[0;32m   3459\u001b[0m             \u001b[1;32mif\u001b[0m \u001b[0mis_integer\u001b[0m\u001b[1;33m(\u001b[0m\u001b[0mindexer\u001b[0m\u001b[1;33m)\u001b[0m\u001b[1;33m:\u001b[0m\u001b[1;33m\u001b[0m\u001b[1;33m\u001b[0m\u001b[0m\n\u001b[0;32m   3460\u001b[0m                 \u001b[0mindexer\u001b[0m \u001b[1;33m=\u001b[0m \u001b[1;33m[\u001b[0m\u001b[0mindexer\u001b[0m\u001b[1;33m]\u001b[0m\u001b[1;33m\u001b[0m\u001b[1;33m\u001b[0m\u001b[0m\n",
      "\u001b[1;32m~\\anaconda3\\lib\\site-packages\\pandas\\core\\indexes\\base.py\u001b[0m in \u001b[0;36mget_loc\u001b[1;34m(self, key, method, tolerance)\u001b[0m\n\u001b[0;32m   3361\u001b[0m                 \u001b[1;32mreturn\u001b[0m \u001b[0mself\u001b[0m\u001b[1;33m.\u001b[0m\u001b[0m_engine\u001b[0m\u001b[1;33m.\u001b[0m\u001b[0mget_loc\u001b[0m\u001b[1;33m(\u001b[0m\u001b[0mcasted_key\u001b[0m\u001b[1;33m)\u001b[0m\u001b[1;33m\u001b[0m\u001b[1;33m\u001b[0m\u001b[0m\n\u001b[0;32m   3362\u001b[0m             \u001b[1;32mexcept\u001b[0m \u001b[0mKeyError\u001b[0m \u001b[1;32mas\u001b[0m \u001b[0merr\u001b[0m\u001b[1;33m:\u001b[0m\u001b[1;33m\u001b[0m\u001b[1;33m\u001b[0m\u001b[0m\n\u001b[1;32m-> 3363\u001b[1;33m                 \u001b[1;32mraise\u001b[0m \u001b[0mKeyError\u001b[0m\u001b[1;33m(\u001b[0m\u001b[0mkey\u001b[0m\u001b[1;33m)\u001b[0m \u001b[1;32mfrom\u001b[0m \u001b[0merr\u001b[0m\u001b[1;33m\u001b[0m\u001b[1;33m\u001b[0m\u001b[0m\n\u001b[0m\u001b[0;32m   3364\u001b[0m \u001b[1;33m\u001b[0m\u001b[0m\n\u001b[0;32m   3365\u001b[0m         \u001b[1;32mif\u001b[0m \u001b[0mis_scalar\u001b[0m\u001b[1;33m(\u001b[0m\u001b[0mkey\u001b[0m\u001b[1;33m)\u001b[0m \u001b[1;32mand\u001b[0m \u001b[0misna\u001b[0m\u001b[1;33m(\u001b[0m\u001b[0mkey\u001b[0m\u001b[1;33m)\u001b[0m \u001b[1;32mand\u001b[0m \u001b[1;32mnot\u001b[0m \u001b[0mself\u001b[0m\u001b[1;33m.\u001b[0m\u001b[0mhasnans\u001b[0m\u001b[1;33m:\u001b[0m\u001b[1;33m\u001b[0m\u001b[1;33m\u001b[0m\u001b[0m\n",
      "\u001b[1;31mKeyError\u001b[0m: 'normWeight'"
     ]
    }
   ],
   "source": [
    "# styles - all\n",
    "\n",
    "node_df = styleSizes.reset_index()\n",
    "node_df['id'] = node_df['style']\n",
    "edge_df = styleWeights.rename(columns={'g1': 'from', 'g2': 'to', })\n",
    "edge_df = edge_df.loc[edge_df['normWeight'] > .05]"
   ]
  },
  {
   "cell_type": "code",
   "execution_count": 218,
   "id": "c8299cfd",
   "metadata": {},
   "outputs": [],
   "source": [
    "# styles - MST\n",
    "\n",
    "node_df = styleSizes.reset_index()\n",
    "node_df['id'] = node_df['style']\n",
    "edge_df = styleWeightsMaxST.rename(columns={'source': 'from', 'target': 'to', })"
   ]
  },
  {
   "cell_type": "code",
   "execution_count": 75,
   "id": "fbe61a6c",
   "metadata": {},
   "outputs": [],
   "source": [
    "node_df.to_csv('styleNodes.csv')\n",
    "edge_df.to_csv('styleEdges.csv')"
   ]
  },
  {
   "cell_type": "code",
   "execution_count": 159,
   "id": "89c2a263",
   "metadata": {},
   "outputs": [],
   "source": [
    "# genres - MST\n",
    "\n",
    "node_df = genreSizes.reset_index()\n",
    "node_df['id'] = node_df['genre']\n",
    "edge_df = genreWeightsMaxST.rename(columns={'source': 'from', 'target': 'to', })"
   ]
  },
  {
   "cell_type": "code",
   "execution_count": 219,
   "id": "2d8101dd",
   "metadata": {
    "collapsed": true
   },
   "outputs": [
    {
     "name": "stdout",
     "output_type": "stream",
     "text": [
      "Parsing the data...Done\n",
      "Dash is running on http://127.0.0.1:8050/\n",
      "\n",
      "Dash is running on http://127.0.0.1:8050/\n",
      "\n",
      "Dash is running on http://127.0.0.1:8050/\n",
      "\n",
      "Dash is running on http://127.0.0.1:8050/\n",
      "\n",
      "Dash is running on http://127.0.0.1:8050/\n",
      "\n",
      "Dash is running on http://127.0.0.1:8050/\n",
      "\n",
      "Dash is running on http://127.0.0.1:8050/\n",
      "\n",
      "Dash is running on http://127.0.0.1:8050/\n",
      "\n",
      "Dash is running on http://127.0.0.1:8050/\n",
      "\n",
      "Dash is running on http://127.0.0.1:8050/\n",
      "\n",
      "Dash is running on http://127.0.0.1:8050/\n",
      "\n",
      "Dash is running on http://127.0.0.1:8050/\n",
      "\n",
      "Dash is running on http://127.0.0.1:8050/\n",
      "\n",
      " * Serving Flask app \"__main__\" (lazy loading)\n",
      " * Environment: production\n",
      "\u001b[31m   WARNING: This is a development server. Do not use it in a production deployment.\u001b[0m\n",
      "\u001b[2m   Use a production WSGI server instead.\u001b[0m\n",
      " * Debug mode: off\n"
     ]
    },
    {
     "name": "stderr",
     "output_type": "stream",
     "text": [
      " * Running on http://127.0.0.1:8050/ (Press CTRL+C to quit)\n",
      "127.0.0.1 - - [06/Jul/2022 16:47:31] \"GET / HTTP/1.1\" 200 -\n",
      "127.0.0.1 - - [06/Jul/2022 16:47:32] \"GET /_dash-layout HTTP/1.1\" 200 -\n",
      "127.0.0.1 - - [06/Jul/2022 16:47:32] \"GET /_dash-dependencies HTTP/1.1\" 200 -\n",
      "127.0.0.1 - - [06/Jul/2022 16:47:32] \"POST /_dash-update-component HTTP/1.1\" 200 -\n",
      "127.0.0.1 - - [06/Jul/2022 16:47:32] \"POST /_dash-update-component HTTP/1.1\" 200 -\n",
      "127.0.0.1 - - [06/Jul/2022 16:47:32] \"POST /_dash-update-component HTTP/1.1\" 200 -\n",
      "127.0.0.1 - - [06/Jul/2022 16:47:32] \"POST /_dash-update-component HTTP/1.1\" 200 -\n",
      "127.0.0.1 - - [06/Jul/2022 16:47:32] \"POST /_dash-update-component HTTP/1.1\" 200 -\n"
     ]
    },
    {
     "name": "stdout",
     "output_type": "stream",
     "text": [
      "No trigger\n"
     ]
    },
    {
     "name": "stderr",
     "output_type": "stream",
     "text": [
      "127.0.0.1 - - [06/Jul/2022 16:47:39] \"POST /_dash-update-component HTTP/1.1\" 200 -\n"
     ]
    },
    {
     "name": "stdout",
     "output_type": "stream",
     "text": [
      "inside color node genre\n"
     ]
    },
    {
     "name": "stderr",
     "output_type": "stream",
     "text": [
      "127.0.0.1 - - [06/Jul/2022 16:47:40] \"POST /_dash-update-component HTTP/1.1\" 200 -\n"
     ]
    },
    {
     "name": "stdout",
     "output_type": "stream",
     "text": [
      "Modifying node size using  cnt\n"
     ]
    },
    {
     "name": "stderr",
     "output_type": "stream",
     "text": [
      "127.0.0.1 - - [06/Jul/2022 16:47:41] \"POST /_dash-update-component HTTP/1.1\" 200 -\n"
     ]
    },
    {
     "name": "stdout",
     "output_type": "stream",
     "text": [
      "Modifying edge size using  weight\n"
     ]
    }
   ],
   "source": [
    "Jaal(edge_df, node_df).plot()"
   ]
  },
  {
   "cell_type": "code",
   "execution_count": null,
   "id": "b4f326b7",
   "metadata": {},
   "outputs": [],
   "source": []
  },
  {
   "cell_type": "code",
   "execution_count": null,
   "id": "9b9de1e0",
   "metadata": {},
   "outputs": [],
   "source": []
  },
  {
   "cell_type": "code",
   "execution_count": 199,
   "id": "1ccefd09",
   "metadata": {},
   "outputs": [],
   "source": [
    "# Taken from https://stackoverflow.com/questions/470690/how-to-automatically-generate-n-distinct-colors\n",
    "KELLY_COLORS_HEX = [\n",
    "    \"#FFB300\", # Vivid Yellow\n",
    "    \"#803E75\", # Strong Purple\n",
    "    \"#FF6800\", # Vivid Orange\n",
    "    \"#A6BDD7\", # Very Light Blue\n",
    "    \"#C10020\", # Vivid Red\n",
    "    \"#CEA262\", # Grayish Yellow\n",
    "    \"#817066\", # Medium Gray\n",
    "\n",
    "    # The following don't work well for people with defective color vision\n",
    "    \"#007D34\", # Vivid Green\n",
    "    \"#F6768E\", # Strong Purplish Pink\n",
    "    \"#00538A\", # Strong Blue\n",
    "    \"#FF7A5C\", # Strong Yellowish Pink\n",
    "    \"#53377A\", # Strong Violet\n",
    "    \"#FF8E00\", # Vivid Orange Yellow\n",
    "    \"#B32851\", # Strong Purplish Red\n",
    "    \"#F4C800\", # Vivid Greenish Yellow\n",
    "    \"#7F180D\", # Strong Reddish Brown\n",
    "    \"#93AA00\", # Vivid Yellowish Green\n",
    "    \"#593315\", # Deep Yellowish Brown\n",
    "    \"#F13A13\", # Vivid Reddish Orange\n",
    "    \"#232C16\", # Dark Olive Green\n",
    "    ]"
   ]
  },
  {
   "cell_type": "code",
   "execution_count": null,
   "id": "24d582cb",
   "metadata": {},
   "outputs": [],
   "source": []
  },
  {
   "cell_type": "code",
   "execution_count": 227,
   "id": "e49a7aa6",
   "metadata": {},
   "outputs": [],
   "source": [
    "# genres - MST\n",
    "\n",
    "node_df_genre = genreSizes.reset_index().rename(columns={'genre': 'label', 'cnt': 'value'})\n",
    "id2color = {i: KELLY_COLORS_HEX[i] for i in node_df_genre['id']}\n",
    "node_df_genre['color'] = [id2color[i] for i in node_df_genre['id']]\n",
    "\n",
    "edge_df_genre = genreWeightsMaxST.rename(columns={'source': 'from', 'target': 'to', 'weight': 'value'})\n",
    "\n",
    "edge_df_genre['value'] = edge_df_genre['value'] / edge_df_genre['value'].max()\n",
    "\n",
    "node_df_genre.to_json('genreNodes.json', orient='records')\n",
    "edge_df_genre.to_json('genreEdges.json', orient='records')\n",
    "\n",
    "# styles - MST\n",
    "\n",
    "node_df_style = styleSizes.reset_index().rename(columns={'style': 'label', 'cnt': 'value'})\n",
    "node_df_style['color'] = [id2color[label2id_genre[lbl]] for lbl in node_df_style['genre']]\n",
    "node_df_style.drop(columns=('genre'), inplace=True)\n",
    "\n",
    "edge_df_style = styleWeightsMaxST.rename(columns={'source': 'from', 'target': 'to', 'weight': 'value'})\n",
    "edge_df_style['value'] = edge_df_style['value'] / edge_df_style['value'].max()\n",
    "\n",
    "node_df_style.to_json('styleNodes.json', orient='records')\n",
    "edge_df_style.to_json('styleEdges.json', orient='records')"
   ]
  },
  {
   "cell_type": "code",
   "execution_count": null,
   "id": "4149071c",
   "metadata": {},
   "outputs": [],
   "source": []
  },
  {
   "cell_type": "code",
   "execution_count": null,
   "id": "5cbcf3c5",
   "metadata": {},
   "outputs": [],
   "source": []
  }
 ],
 "metadata": {
  "kernelspec": {
   "display_name": "Python 3",
   "language": "python",
   "name": "python3"
  },
  "language_info": {
   "codemirror_mode": {
    "name": "ipython",
    "version": 3
   },
   "file_extension": ".py",
   "mimetype": "text/x-python",
   "name": "python",
   "nbconvert_exporter": "python",
   "pygments_lexer": "ipython3",
   "version": "3.7.6"
  }
 },
 "nbformat": 4,
 "nbformat_minor": 5
}
